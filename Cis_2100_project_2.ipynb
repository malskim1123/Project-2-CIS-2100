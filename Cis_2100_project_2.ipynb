{
  "nbformat": 4,
  "nbformat_minor": 0,
  "metadata": {
    "colab": {
      "provenance": [],
      "mount_file_id": "1nZ110U5gXN_z2jfnEPIH0cYH-MQpcFf3",
      "authorship_tag": "ABX9TyNbdyvWDLEV//AnBclD/Cum",
      "include_colab_link": true
    },
    "kernelspec": {
      "name": "python3",
      "display_name": "Python 3"
    },
    "language_info": {
      "name": "python"
    }
  },
  "cells": [
    {
      "cell_type": "markdown",
      "metadata": {
        "id": "view-in-github",
        "colab_type": "text"
      },
      "source": [
        "<a href=\"https://colab.research.google.com/github/malskim1123/Project-2-CIS-2100/blob/main/Cis_2100_project_2.ipynb\" target=\"_parent\"><img src=\"https://colab.research.google.com/assets/colab-badge.svg\" alt=\"Open In Colab\"/></a>"
      ]
    },
    {
      "cell_type": "code",
      "execution_count": 55,
      "metadata": {
        "id": "Rcvujq6C_eL7"
      },
      "outputs": [],
      "source": [
        "import numpy as np\n",
        "import pandas as pd"
      ]
    },
    {
      "cell_type": "code",
      "source": [
        "path = \"/content/drive/MyDrive/CIS 2100 proj 2/sales_records.csv\"\n",
        "df = pd.read_csv(path)\n",
        "df.head()"
      ],
      "metadata": {
        "colab": {
          "base_uri": "https://localhost:8080/",
          "height": 206
        },
        "id": "8pTnhixvVAFm",
        "outputId": "751c4831-10bb-4d75-8dfa-d52da01af25a"
      },
      "execution_count": 94,
      "outputs": [
        {
          "output_type": "execute_result",
          "data": {
            "text/plain": [
              "         Date      Time  StoreID  CustomerID  OrderID       ProductName  \\\n",
              "0  2024-11-10  18:10:40      888         844        1  Canon EOS Camera   \n",
              "1  2024-11-10  18:10:40      888         844        1    Sony Headphone   \n",
              "2  2024-11-10  18:10:40      888         844        1     Victus Laptop   \n",
              "3  2024-02-11  18:10:40      863         476        2  Burton Snowboard   \n",
              "4  2024-02-11  18:10:40      863         476        2  Burton Snowboard   \n",
              "\n",
              "     Price  \n",
              "0  $549.99  \n",
              "1  $149.99  \n",
              "2  $699.99  \n",
              "3  $599.99  \n",
              "4  $599.99  "
            ],
            "text/html": [
              "\n",
              "  <div id=\"df-430c5f93-c59c-4e34-aba7-df28f8daf869\" class=\"colab-df-container\">\n",
              "    <div>\n",
              "<style scoped>\n",
              "    .dataframe tbody tr th:only-of-type {\n",
              "        vertical-align: middle;\n",
              "    }\n",
              "\n",
              "    .dataframe tbody tr th {\n",
              "        vertical-align: top;\n",
              "    }\n",
              "\n",
              "    .dataframe thead th {\n",
              "        text-align: right;\n",
              "    }\n",
              "</style>\n",
              "<table border=\"1\" class=\"dataframe\">\n",
              "  <thead>\n",
              "    <tr style=\"text-align: right;\">\n",
              "      <th></th>\n",
              "      <th>Date</th>\n",
              "      <th>Time</th>\n",
              "      <th>StoreID</th>\n",
              "      <th>CustomerID</th>\n",
              "      <th>OrderID</th>\n",
              "      <th>ProductName</th>\n",
              "      <th>Price</th>\n",
              "    </tr>\n",
              "  </thead>\n",
              "  <tbody>\n",
              "    <tr>\n",
              "      <th>0</th>\n",
              "      <td>2024-11-10</td>\n",
              "      <td>18:10:40</td>\n",
              "      <td>888</td>\n",
              "      <td>844</td>\n",
              "      <td>1</td>\n",
              "      <td>Canon EOS Camera</td>\n",
              "      <td>$549.99</td>\n",
              "    </tr>\n",
              "    <tr>\n",
              "      <th>1</th>\n",
              "      <td>2024-11-10</td>\n",
              "      <td>18:10:40</td>\n",
              "      <td>888</td>\n",
              "      <td>844</td>\n",
              "      <td>1</td>\n",
              "      <td>Sony Headphone</td>\n",
              "      <td>$149.99</td>\n",
              "    </tr>\n",
              "    <tr>\n",
              "      <th>2</th>\n",
              "      <td>2024-11-10</td>\n",
              "      <td>18:10:40</td>\n",
              "      <td>888</td>\n",
              "      <td>844</td>\n",
              "      <td>1</td>\n",
              "      <td>Victus Laptop</td>\n",
              "      <td>$699.99</td>\n",
              "    </tr>\n",
              "    <tr>\n",
              "      <th>3</th>\n",
              "      <td>2024-02-11</td>\n",
              "      <td>18:10:40</td>\n",
              "      <td>863</td>\n",
              "      <td>476</td>\n",
              "      <td>2</td>\n",
              "      <td>Burton Snowboard</td>\n",
              "      <td>$599.99</td>\n",
              "    </tr>\n",
              "    <tr>\n",
              "      <th>4</th>\n",
              "      <td>2024-02-11</td>\n",
              "      <td>18:10:40</td>\n",
              "      <td>863</td>\n",
              "      <td>476</td>\n",
              "      <td>2</td>\n",
              "      <td>Burton Snowboard</td>\n",
              "      <td>$599.99</td>\n",
              "    </tr>\n",
              "  </tbody>\n",
              "</table>\n",
              "</div>\n",
              "    <div class=\"colab-df-buttons\">\n",
              "\n",
              "  <div class=\"colab-df-container\">\n",
              "    <button class=\"colab-df-convert\" onclick=\"convertToInteractive('df-430c5f93-c59c-4e34-aba7-df28f8daf869')\"\n",
              "            title=\"Convert this dataframe to an interactive table.\"\n",
              "            style=\"display:none;\">\n",
              "\n",
              "  <svg xmlns=\"http://www.w3.org/2000/svg\" height=\"24px\" viewBox=\"0 -960 960 960\">\n",
              "    <path d=\"M120-120v-720h720v720H120Zm60-500h600v-160H180v160Zm220 220h160v-160H400v160Zm0 220h160v-160H400v160ZM180-400h160v-160H180v160Zm440 0h160v-160H620v160ZM180-180h160v-160H180v160Zm440 0h160v-160H620v160Z\"/>\n",
              "  </svg>\n",
              "    </button>\n",
              "\n",
              "  <style>\n",
              "    .colab-df-container {\n",
              "      display:flex;\n",
              "      gap: 12px;\n",
              "    }\n",
              "\n",
              "    .colab-df-convert {\n",
              "      background-color: #E8F0FE;\n",
              "      border: none;\n",
              "      border-radius: 50%;\n",
              "      cursor: pointer;\n",
              "      display: none;\n",
              "      fill: #1967D2;\n",
              "      height: 32px;\n",
              "      padding: 0 0 0 0;\n",
              "      width: 32px;\n",
              "    }\n",
              "\n",
              "    .colab-df-convert:hover {\n",
              "      background-color: #E2EBFA;\n",
              "      box-shadow: 0px 1px 2px rgba(60, 64, 67, 0.3), 0px 1px 3px 1px rgba(60, 64, 67, 0.15);\n",
              "      fill: #174EA6;\n",
              "    }\n",
              "\n",
              "    .colab-df-buttons div {\n",
              "      margin-bottom: 4px;\n",
              "    }\n",
              "\n",
              "    [theme=dark] .colab-df-convert {\n",
              "      background-color: #3B4455;\n",
              "      fill: #D2E3FC;\n",
              "    }\n",
              "\n",
              "    [theme=dark] .colab-df-convert:hover {\n",
              "      background-color: #434B5C;\n",
              "      box-shadow: 0px 1px 3px 1px rgba(0, 0, 0, 0.15);\n",
              "      filter: drop-shadow(0px 1px 2px rgba(0, 0, 0, 0.3));\n",
              "      fill: #FFFFFF;\n",
              "    }\n",
              "  </style>\n",
              "\n",
              "    <script>\n",
              "      const buttonEl =\n",
              "        document.querySelector('#df-430c5f93-c59c-4e34-aba7-df28f8daf869 button.colab-df-convert');\n",
              "      buttonEl.style.display =\n",
              "        google.colab.kernel.accessAllowed ? 'block' : 'none';\n",
              "\n",
              "      async function convertToInteractive(key) {\n",
              "        const element = document.querySelector('#df-430c5f93-c59c-4e34-aba7-df28f8daf869');\n",
              "        const dataTable =\n",
              "          await google.colab.kernel.invokeFunction('convertToInteractive',\n",
              "                                                    [key], {});\n",
              "        if (!dataTable) return;\n",
              "\n",
              "        const docLinkHtml = 'Like what you see? Visit the ' +\n",
              "          '<a target=\"_blank\" href=https://colab.research.google.com/notebooks/data_table.ipynb>data table notebook</a>'\n",
              "          + ' to learn more about interactive tables.';\n",
              "        element.innerHTML = '';\n",
              "        dataTable['output_type'] = 'display_data';\n",
              "        await google.colab.output.renderOutput(dataTable, element);\n",
              "        const docLink = document.createElement('div');\n",
              "        docLink.innerHTML = docLinkHtml;\n",
              "        element.appendChild(docLink);\n",
              "      }\n",
              "    </script>\n",
              "  </div>\n",
              "\n",
              "\n",
              "<div id=\"df-5bc6c697-605e-4cca-9a70-35b1f94c69b2\">\n",
              "  <button class=\"colab-df-quickchart\" onclick=\"quickchart('df-5bc6c697-605e-4cca-9a70-35b1f94c69b2')\"\n",
              "            title=\"Suggest charts\"\n",
              "            style=\"display:none;\">\n",
              "\n",
              "<svg xmlns=\"http://www.w3.org/2000/svg\" height=\"24px\"viewBox=\"0 0 24 24\"\n",
              "     width=\"24px\">\n",
              "    <g>\n",
              "        <path d=\"M19 3H5c-1.1 0-2 .9-2 2v14c0 1.1.9 2 2 2h14c1.1 0 2-.9 2-2V5c0-1.1-.9-2-2-2zM9 17H7v-7h2v7zm4 0h-2V7h2v10zm4 0h-2v-4h2v4z\"/>\n",
              "    </g>\n",
              "</svg>\n",
              "  </button>\n",
              "\n",
              "<style>\n",
              "  .colab-df-quickchart {\n",
              "      --bg-color: #E8F0FE;\n",
              "      --fill-color: #1967D2;\n",
              "      --hover-bg-color: #E2EBFA;\n",
              "      --hover-fill-color: #174EA6;\n",
              "      --disabled-fill-color: #AAA;\n",
              "      --disabled-bg-color: #DDD;\n",
              "  }\n",
              "\n",
              "  [theme=dark] .colab-df-quickchart {\n",
              "      --bg-color: #3B4455;\n",
              "      --fill-color: #D2E3FC;\n",
              "      --hover-bg-color: #434B5C;\n",
              "      --hover-fill-color: #FFFFFF;\n",
              "      --disabled-bg-color: #3B4455;\n",
              "      --disabled-fill-color: #666;\n",
              "  }\n",
              "\n",
              "  .colab-df-quickchart {\n",
              "    background-color: var(--bg-color);\n",
              "    border: none;\n",
              "    border-radius: 50%;\n",
              "    cursor: pointer;\n",
              "    display: none;\n",
              "    fill: var(--fill-color);\n",
              "    height: 32px;\n",
              "    padding: 0;\n",
              "    width: 32px;\n",
              "  }\n",
              "\n",
              "  .colab-df-quickchart:hover {\n",
              "    background-color: var(--hover-bg-color);\n",
              "    box-shadow: 0 1px 2px rgba(60, 64, 67, 0.3), 0 1px 3px 1px rgba(60, 64, 67, 0.15);\n",
              "    fill: var(--button-hover-fill-color);\n",
              "  }\n",
              "\n",
              "  .colab-df-quickchart-complete:disabled,\n",
              "  .colab-df-quickchart-complete:disabled:hover {\n",
              "    background-color: var(--disabled-bg-color);\n",
              "    fill: var(--disabled-fill-color);\n",
              "    box-shadow: none;\n",
              "  }\n",
              "\n",
              "  .colab-df-spinner {\n",
              "    border: 2px solid var(--fill-color);\n",
              "    border-color: transparent;\n",
              "    border-bottom-color: var(--fill-color);\n",
              "    animation:\n",
              "      spin 1s steps(1) infinite;\n",
              "  }\n",
              "\n",
              "  @keyframes spin {\n",
              "    0% {\n",
              "      border-color: transparent;\n",
              "      border-bottom-color: var(--fill-color);\n",
              "      border-left-color: var(--fill-color);\n",
              "    }\n",
              "    20% {\n",
              "      border-color: transparent;\n",
              "      border-left-color: var(--fill-color);\n",
              "      border-top-color: var(--fill-color);\n",
              "    }\n",
              "    30% {\n",
              "      border-color: transparent;\n",
              "      border-left-color: var(--fill-color);\n",
              "      border-top-color: var(--fill-color);\n",
              "      border-right-color: var(--fill-color);\n",
              "    }\n",
              "    40% {\n",
              "      border-color: transparent;\n",
              "      border-right-color: var(--fill-color);\n",
              "      border-top-color: var(--fill-color);\n",
              "    }\n",
              "    60% {\n",
              "      border-color: transparent;\n",
              "      border-right-color: var(--fill-color);\n",
              "    }\n",
              "    80% {\n",
              "      border-color: transparent;\n",
              "      border-right-color: var(--fill-color);\n",
              "      border-bottom-color: var(--fill-color);\n",
              "    }\n",
              "    90% {\n",
              "      border-color: transparent;\n",
              "      border-bottom-color: var(--fill-color);\n",
              "    }\n",
              "  }\n",
              "</style>\n",
              "\n",
              "  <script>\n",
              "    async function quickchart(key) {\n",
              "      const quickchartButtonEl =\n",
              "        document.querySelector('#' + key + ' button');\n",
              "      quickchartButtonEl.disabled = true;  // To prevent multiple clicks.\n",
              "      quickchartButtonEl.classList.add('colab-df-spinner');\n",
              "      try {\n",
              "        const charts = await google.colab.kernel.invokeFunction(\n",
              "            'suggestCharts', [key], {});\n",
              "      } catch (error) {\n",
              "        console.error('Error during call to suggestCharts:', error);\n",
              "      }\n",
              "      quickchartButtonEl.classList.remove('colab-df-spinner');\n",
              "      quickchartButtonEl.classList.add('colab-df-quickchart-complete');\n",
              "    }\n",
              "    (() => {\n",
              "      let quickchartButtonEl =\n",
              "        document.querySelector('#df-5bc6c697-605e-4cca-9a70-35b1f94c69b2 button');\n",
              "      quickchartButtonEl.style.display =\n",
              "        google.colab.kernel.accessAllowed ? 'block' : 'none';\n",
              "    })();\n",
              "  </script>\n",
              "</div>\n",
              "\n",
              "    </div>\n",
              "  </div>\n"
            ],
            "application/vnd.google.colaboratory.intrinsic+json": {
              "type": "dataframe",
              "variable_name": "df",
              "summary": "{\n  \"name\": \"df\",\n  \"rows\": 42489,\n  \"fields\": [\n    {\n      \"column\": \"Date\",\n      \"properties\": {\n        \"dtype\": \"object\",\n        \"num_unique_values\": 366,\n        \"samples\": [\n          \"2024-09-20\",\n          \"2024-04-12\",\n          \"2024-05-29\"\n        ],\n        \"semantic_type\": \"\",\n        \"description\": \"\"\n      }\n    },\n    {\n      \"column\": \"Time\",\n      \"properties\": {\n        \"dtype\": \"object\",\n        \"num_unique_values\": 1,\n        \"samples\": [\n          \"18:10:40\"\n        ],\n        \"semantic_type\": \"\",\n        \"description\": \"\"\n      }\n    },\n    {\n      \"column\": \"StoreID\",\n      \"properties\": {\n        \"dtype\": \"number\",\n        \"std\": 720,\n        \"min\": 1,\n        \"max\": 2500,\n        \"num_unique_values\": 2458,\n        \"samples\": [\n          2230\n        ],\n        \"semantic_type\": \"\",\n        \"description\": \"\"\n      }\n    },\n    {\n      \"column\": \"CustomerID\",\n      \"properties\": {\n        \"dtype\": \"number\",\n        \"std\": 291,\n        \"min\": 1,\n        \"max\": 1000,\n        \"num_unique_values\": 1000,\n        \"samples\": [\n          926\n        ],\n        \"semantic_type\": \"\",\n        \"description\": \"\"\n      }\n    },\n    {\n      \"column\": \"OrderID\",\n      \"properties\": {\n        \"dtype\": \"number\",\n        \"std\": 2889,\n        \"min\": 1,\n        \"max\": 10000,\n        \"num_unique_values\": 10000,\n        \"samples\": [\n          6253\n        ],\n        \"semantic_type\": \"\",\n        \"description\": \"\"\n      }\n    },\n    {\n      \"column\": \"ProductName\",\n      \"properties\": {\n        \"dtype\": \"category\",\n        \"num_unique_values\": 11,\n        \"samples\": [\n          \"Whey Protein Powder\"\n        ],\n        \"semantic_type\": \"\",\n        \"description\": \"\"\n      }\n    },\n    {\n      \"column\": \"Price\",\n      \"properties\": {\n        \"dtype\": \"category\",\n        \"num_unique_values\": 11,\n        \"samples\": [\n          \"$50.00\"\n        ],\n        \"semantic_type\": \"\",\n        \"description\": \"\"\n      }\n    }\n  ]\n}"
            }
          },
          "metadata": {},
          "execution_count": 94
        }
      ]
    },
    {
      "cell_type": "code",
      "source": [
        "#Question 1: The most prevalent products, in customer baskets\n",
        "most_prevalent_product = df['ProductName'].value_counts().head(1)\n",
        "\n",
        "product_name = most_prevalent_product.index[0]\n",
        "product_count = most_prevalent_product.values[0]\n",
        "\n",
        "print(f\"Most prevalent product is {product_name} with {product_count} sales.\")"
      ],
      "metadata": {
        "colab": {
          "base_uri": "https://localhost:8080/"
        },
        "id": "xRmxMZz_WsVF",
        "outputId": "a127d559-25aa-4084-c7fa-83f66ee77217"
      },
      "execution_count": 123,
      "outputs": [
        {
          "output_type": "stream",
          "name": "stdout",
          "text": [
            "Most prevalent product is Ibanez Guitar with 3981 sales.\n"
          ]
        }
      ]
    },
    {
      "cell_type": "code",
      "source": [
        "#Question 2: The frequency by which customers were large buyers, or filled up large baskets\n",
        "order_product_count = df.groupby(['CustomerID', 'OrderID'])['ProductName'].nunique().reset_index()\n",
        "\n",
        "large_basket_orders = order_product_count[order_product_count['ProductName'] >= 5]\n",
        "\n",
        "top_5_customers = large_basket_orders['CustomerID'].value_counts().head(5)\n",
        "\n",
        "print(\"Top 5 customers with large baskets (purchased 5 or more products):\")\n",
        "for customer, count in top_5_customers.items():\n",
        "    print(f\"CustomerID {customer} has {count} large baskets\")\n",
        "\n",
        "total_large_purchases = len(large_basket_orders)\n",
        "\n",
        "print(\"\\nTotal number of large baskets:\", total_large_purchases)"
      ],
      "metadata": {
        "colab": {
          "base_uri": "https://localhost:8080/"
        },
        "id": "TE2wIoTrbfTI",
        "outputId": "66c8adf9-49a1-4aad-b950-c30d9342d8db"
      },
      "execution_count": 125,
      "outputs": [
        {
          "output_type": "stream",
          "name": "stdout",
          "text": [
            "Top 5 customers with large baskets (purchased 5 or more products):\n",
            "CustomerID 604 has 12 large baskets\n",
            "CustomerID 354 has 8 large baskets\n",
            "CustomerID 132 has 8 large baskets\n",
            "CustomerID 643 has 8 large baskets\n",
            "CustomerID 512 has 7 large baskets\n",
            "\n",
            "Total number of large baskets: 2577\n"
          ]
        }
      ]
    },
    {
      "cell_type": "code",
      "source": [
        "#Question 3: Which stores contained the large-basket buyers, and by how much\n",
        "# Too many stores with large baskets to list, so I showed top 5 stores with most baskets.\n",
        "order_product_count = df.groupby(['CustomerID', 'OrderID'])['ProductName'].nunique().reset_index()\n",
        "\n",
        "large_basket_orders = order_product_count[order_product_count['ProductName'] >= 5]\n",
        "\n",
        "large_basket_orders = large_basket_orders.merge(df[['StoreID', 'OrderID']], on='OrderID')\n",
        "\n",
        "store_large_basket_counts = large_basket_orders['StoreID'].value_counts()\n",
        "\n",
        "total_stores_with_large_baskets = len(store_large_basket_counts)\n",
        "\n",
        "print(f\"Total number of stores that contained at least one large basket: {total_stores_with_large_baskets}\")\n",
        "\n",
        "print(\"\\nTop 5 stores with the most filled-up baskets:\")\n",
        "for store_id, count in store_large_basket_counts.head(5).items():\n",
        "    print(f\"StoreID {store_id} had {count} large purchases\")"
      ],
      "metadata": {
        "colab": {
          "base_uri": "https://localhost:8080/"
        },
        "id": "iypgh8BscP1t",
        "outputId": "d242398c-837d-437f-b4a3-69a931ba8dcd"
      },
      "execution_count": 117,
      "outputs": [
        {
          "output_type": "stream",
          "name": "stdout",
          "text": [
            "Total number of stores that contained at least one large basket: 1588\n",
            "\n",
            "Top 5 stores with the most filled-up baskets:\n",
            "StoreID 420 had 37 large purchases\n",
            "StoreID 1876 had 32 large purchases\n",
            "StoreID 1444 had 32 large purchases\n",
            "StoreID 1203 had 32 large purchases\n",
            "StoreID 1180 had 31 large purchases\n"
          ]
        }
      ]
    },
    {
      "cell_type": "code",
      "source": [
        "#Question 4: A visualization that ranks the top, large-basket customer stores, by frequency\n",
        "import matplotlib.pyplot as plt\n",
        "\n",
        "plt.figure(figsize=(10, 6))\n",
        "large_basket_by_store.plot(kind='bar', x='StoreID', y='Large Baskets', color='lightcoral', legend=False)\n",
        "\n",
        "plt.title(\"Top 10 Stores with Most Large Baskets\", fontsize=14)\n",
        "plt.xlabel(\"StoreID\", fontsize=12)\n",
        "plt.ylabel(\"Number of Large Baskets\", fontsize=12)\n",
        "\n",
        "plt.ylim(25, 40)\n",
        "\n",
        "plt.yticks(range(25, 40, 1))\n",
        "\n",
        "plt.xticks(rotation=45, fontsize=9)\n",
        "\n",
        "plt.tight_layout()\n",
        "plt.show()"
      ],
      "metadata": {
        "colab": {
          "base_uri": "https://localhost:8080/",
          "height": 504
        },
        "id": "RPgocVSdVlwU",
        "outputId": "6d268957-b011-4df8-ac94-2632998ac82e"
      },
      "execution_count": 136,
      "outputs": [
        {
          "output_type": "display_data",
          "data": {
            "text/plain": [
              "<Figure size 1000x600 with 0 Axes>"
            ]
          },
          "metadata": {}
        },
        {
          "output_type": "display_data",
          "data": {
            "text/plain": [
              "<Figure size 640x480 with 1 Axes>"
            ],
            "image/png": "[encoded data removed]"
          },
          "metadata": {}
        }
      ]
    },
    {
      "cell_type": "code",
      "source": [
        "#Question 5: A top-n list of products, which were typical to customers in this demographic\n",
        "df['ProductCount'] = df.groupby('OrderID')['ProductName'].transform('nunique')\n",
        "large_basket_orders = df[df['ProductCount'] >= 5]\n",
        "\n",
        "product_counts_in_large_baskets = large_basket_orders['ProductName'].value_counts()\n",
        "top_n_products_large_basket = product_counts_in_large_baskets.head(5)\n",
        "\n",
        "print(\"Top 5 products typical to large-basket customers:\")\n",
        "\n",
        "for rank, (product, count) in enumerate(top_n_products_large_basket.items(), start=1):\n",
        "    print(f\"{rank}. {product}, Sold {count} times\")"
      ],
      "metadata": {
        "colab": {
          "base_uri": "https://localhost:8080/"
        },
        "id": "jIC19t15iiHk",
        "outputId": "2e4f6018-2793-4c03-f4d1-787082b8d123"
      },
      "execution_count": 111,
      "outputs": [
        {
          "output_type": "stream",
          "name": "stdout",
          "text": [
            "Top 5 products typical to large-basket customers:\n",
            "1. Ibanez Guitar, Sold 1486 times\n",
            "2. Carpet, Sold 1470 times\n",
            "3. Sony Headphone, Sold 1464 times\n",
            "4. Canon EOS Camera, Sold 1457 times\n",
            "5. Air Jordan 1, Sold 1445 times\n"
          ]
        }
      ]
    },
    {
      "cell_type": "code",
      "source": [
        "#Question 6: A categorical approach to the above demographic – what is the categoric makeup of their baskets, on average?\n",
        "category_map = {\n",
        "    \"Air Jordan 1\": \"Footwear\",\n",
        "    \"Victus Laptop\": \"Electronics\",\n",
        "    \"Sony Headphone\": \"Electronics\",\n",
        "    \"Smith Ski Goggles\": \"Sports\",\n",
        "    \"Ibanez Guitar\": \"Music\",\n",
        "    \"Camille Rose Conditioner\": \"Beauty\",\n",
        "    \"Whey Protein Powder\": \"Health\",\n",
        "    \"Burton Snowboard\": \"Sports\",\n",
        "    \"Nike Sweatpants\": \"Clothing\",\n",
        "    \"Canon EOS Camera\": \"Electronics\",\n",
        "    \"Carpet\": \"Home\"\n",
        "}\n",
        "\n",
        "df['Category'] = df['ProductName'].map(category_map)\n",
        "large_basket_orders = df[df['ProductCount'] == 5]\n",
        "category_counts_in_large_baskets = large_basket_orders['Category'].value_counts()\n",
        "top_5_categories_large_basket = category_counts_in_large_baskets.head(5)\n",
        "\n",
        "print(\"Top 5 categories typical to large-basket customers:\")\n",
        "for i, (category, count) in enumerate(top_5_categories_large_basket.items(), start=1):\n",
        "    print(f\"{i}: {category}, Sold {count} times\")"
      ],
      "metadata": {
        "id": "WCLs4eafnofg",
        "colab": {
          "base_uri": "https://localhost:8080/"
        },
        "outputId": "f97107cd-2c92-437d-a9fe-eb06acd27d52"
      },
      "execution_count": 119,
      "outputs": [
        {
          "output_type": "stream",
          "name": "stdout",
          "text": [
            "Top 5 categories typical to large-basket customers:\n",
            "1: Electronics, Sold 2874 times\n",
            "2: Sports, Sold 1892 times\n",
            "3: Music, Sold 1001 times\n",
            "4: Home, Sold 962 times\n",
            "5: Footwear, Sold 961 times\n"
          ]
        }
      ]
    },
    {
      "cell_type": "code",
      "source": [
        "#Question 7: Formulate a visualization for item 6, above\n",
        "import matplotlib.pyplot as plt\n",
        "\n",
        "large_basket_orders = df[df['ProductCount'] == 5]\n",
        "\n",
        "category_counts_in_large_baskets = large_basket_orders['Category'].value_counts()\n",
        "\n",
        "top_5_categories_large_basket = category_counts_in_large_baskets.head(5)\n",
        "\n",
        "plt.figure(figsize=(10, 6))\n",
        "top_5_categories_large_basket.plot(kind='bar', color='skyblue')\n",
        "\n",
        "plt.title(\"Top 5 Categories Typical to Large-Basket Customers\", fontsize=14)\n",
        "plt.xlabel(\"Category\", fontsize=12)\n",
        "plt.ylabel(\"Number of Products Sold\", fontsize=12)\n",
        "\n",
        "plt.xticks(rotation=45)\n",
        "plt.tight_layout()\n",
        "plt.show()\n"
      ],
      "metadata": {
        "colab": {
          "base_uri": "https://localhost:8080/",
          "height": 607
        },
        "id": "xfhdNsqrU_j2",
        "outputId": "1256b114-090b-4786-b486-dfeb11de0382"
      },
      "execution_count": 137,
      "outputs": [
        {
          "output_type": "display_data",
          "data": {
            "text/plain": [
              "<Figure size 1000x600 with 1 Axes>"
            ],
            "image/png": "[encoded data removed]"
          },
          "metadata": {}
        }
      ]
    }
  ]
}